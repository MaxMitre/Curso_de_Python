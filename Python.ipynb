{
  "nbformat": 4,
  "nbformat_minor": 0,
  "metadata": {
    "colab": {
      "name": "Python.ipynb",
      "provenance": [],
      "collapsed_sections": [],
      "include_colab_link": true
    },
    "kernelspec": {
      "name": "python3",
      "display_name": "Python 3"
    }
  },
  "cells": [
    {
      "cell_type": "markdown",
      "metadata": {
        "id": "view-in-github",
        "colab_type": "text"
      },
      "source": [
        "<a href=\"https://colab.research.google.com/github/MaxMitre/Curso_de_Python/blob/master/Python.ipynb\" target=\"_parent\"><img src=\"https://colab.research.google.com/assets/colab-badge.svg\" alt=\"Open In Colab\"/></a>"
      ]
    },
    {
      "cell_type": "markdown",
      "metadata": {
        "id": "GyjrGNHgRKCo",
        "colab_type": "text"
      },
      "source": [
        "\n",
        "<center> <img src=\"https://lh5.googleusercontent.com/K94E11EwMpW6xmz6549u5xPUDwah7qS_pPzDLeI9UKuuCaIfWPeMd-bfkTTgvRsQu45_KV0gcjx3JpLN9wOQdrf8Yrk85KrMAsUTf4PUG6Y0fhb9YXnrwVjeDTn3khmUmGCCRy8t\" width=\"800\" height=\"400\" align=\"center\"/></center>\n",
        "\n",
        "Bienvenidos a la sesión 3 \"Python y Juegos de Azar\" de nuestro curso Python para todos."
      ]
    },
    {
      "cell_type": "markdown",
      "metadata": {
        "id": "B3jgzWjh1uua",
        "colab_type": "text"
      },
      "source": [
        "El módulo **random** es una librería de Python que contiene funciones para generar números aleatorios. Para acceder a él se debe cargar al programa con la instrucción import. \n",
        "\n",
        "Comenzaremos con un pequeño juego, trata de adivinar el número ejecutando la siguiente celda."
      ]
    },
    {
      "cell_type": "code",
      "metadata": {
        "id": "CRA65Dvr3Ki3",
        "colab_type": "code",
        "cellView": "form",
        "colab": {
          "base_uri": "https://localhost:8080/",
          "height": 102
        },
        "outputId": "b0e21e6f-23aa-4e81-cfa9-d13bc00d00df"
      },
      "source": [
        "#@title Adivina el número\n",
        "#Adivina el número\n",
        "import random\n",
        "minumero=random.randint(1,10)\n",
        "print(\"Adivina el número que estoy pensando\")\n",
        "print(\"Pista: es un número del 1 al 10\")\n",
        "numero= int(input(\"Dame un número: \"))\n",
        "if minumero==numero:\n",
        "    print(\"Muy bien, adivinanste mi número\")\n",
        "else:\n",
        "    print(\"Lo siento, ese no es mi número. Mi número es: \", minumero)\n",
        "    print(\"Gracias por participar!!!\")\n"
      ],
      "execution_count": null,
      "outputs": [
        {
          "output_type": "stream",
          "text": [
            "Adivina el número que estoy pensando\n",
            "Pista: es un número del 1 al 10\n",
            "Dame un número: 7\n",
            "Lo siento, ese no es mi número. Mi número es:  2\n",
            "Gracias por participar!!!\n"
          ],
          "name": "stdout"
        }
      ]
    },
    {
      "cell_type": "markdown",
      "metadata": {
        "id": "FdCzpn2QwQL5",
        "colab_type": "text"
      },
      "source": [
        "**IMPORTANTE:** Necesitaremos un par de librerias, asegurate de ejecutar el siguiente bloque antes de continuar."
      ]
    },
    {
      "cell_type": "code",
      "metadata": {
        "id": "9Am-YrswvhC0",
        "colab_type": "code",
        "colab": {}
      },
      "source": [
        "# CUADRO 1: Importando librerías\n",
        "import random     "
      ],
      "execution_count": null,
      "outputs": []
    },
    {
      "cell_type": "markdown",
      "metadata": {
        "id": "cQ_l1Es0PnUJ",
        "colab_type": "text"
      },
      "source": [
        "El primer comando de la librería *random* que aprenderemos será **randint(a,b)**, el cual nos dará un entero al azar entre los números **a** y **b** (incluye al número **a** y al **b**).\n",
        "\n",
        "A continuación, vamos a generar *n* números al azar entre el 1 y el 6, que sería como tirar un dado *n* veces. Ejecuta la celda de código, introduce el número *n* que desees y observa el resultado.\n",
        "\n",
        "\n",
        "\n"
      ]
    },
    {
      "cell_type": "code",
      "metadata": {
        "id": "JKXatO8w1Hv3",
        "colab_type": "code",
        "colab": {}
      },
      "source": [
        "# CUADRO 2: Simular lanzamientos de dados\n",
        "\n",
        "i=1\t\t\t\t\t\t\t\t\t\t\t\t\t\t\t\t\t\t\t\t\t# Indice, lo usamos para contar\n",
        "lanzamientos=int(input(\"Lanzamientos: \"))   # input() nos permite introducir instrucciones\n",
        "while i<=lanzamientos:\t\t\t\t\t\t\t\t\t\t\t# El ciclo se ejecuta hasta \"i>lanzamientos\"\n",
        "    \tprint(random.randint(1,6))\t\t\t\t\t\t# Imprimimos el número generado al azar\n",
        "    \ti=i+1     "
      ],
      "execution_count": null,
      "outputs": []
    },
    {
      "cell_type": "markdown",
      "metadata": {
        "id": "LvKzACrYXeh4",
        "colab_type": "text"
      },
      "source": [
        "**EJERCICIO 1:** "
      ]
    },
    {
      "cell_type": "code",
      "metadata": {
        "id": "hW7epgLgYopp",
        "colab_type": "code",
        "colab": {}
      },
      "source": [
        "# Modifica el siguiente programa para que simule lanzar dados y se detenga \n",
        "# hasta que aparezca el número que tu desees.\n",
        "\n",
        "deseado=int(input(\"_________?\"))\n",
        "dado=-1                               #<------  No te preocupes, este índice aparece para que al\n",
        "while _____!=_____:                   # inicio ningún dado sea igual al que darás en input() \n",
        "  _____=random.randint(____,6)\n",
        "  print(_____)\n",
        "    \t   "
      ],
      "execution_count": null,
      "outputs": []
    },
    {
      "cell_type": "markdown",
      "metadata": {
        "id": "NR4pkTSg4TW9",
        "colab_type": "text"
      },
      "source": [
        "El siguiente comando es para seleccionar elementos al azar de una lista, **random.choice(lista)**. la lista puede ser de números ( **[1,2,3,7,8]** ) o cadenas ( **[\"Anel\", \"Max\", \"Estudiantes\",\"Wincyhpta\"]** ). Todos los elementos de la lista tienen la misma probabilidad de ser seleccionados, esa probabilidad es 1/n, donde \"n\" es el número de elementos. \n",
        "\n",
        "\n"
      ]
    },
    {
      "cell_type": "code",
      "metadata": {
        "id": "LYjdQTLd4Y4e",
        "colab_type": "code",
        "colab": {}
      },
      "source": [
        "# CUADRO 3: Seleccionando 1 elemento de una lista\n",
        "\n",
        "nums=[1,2,3,4,5,6,7]\n",
        "premios=[\"perro\",\"gato\",\"gallina\",\"carro\"]     \n",
        "\n",
        "print(random.choice(nums))                # Imprime el elemento seleccionado de la lista \"nums\"\n",
        "print(random.choice(premios))             # Lo mismo pero para la lista \"premios\""
      ],
      "execution_count": null,
      "outputs": []
    },
    {
      "cell_type": "markdown",
      "metadata": {
        "id": "RK7fpUgOZd36",
        "colab_type": "text"
      },
      "source": [
        "Ahora, ¿ has escuchado hablar de los dados cargados? ¿O alguna otra trampa en los juegos?\n",
        "\n",
        "En el ejemplo anterior todos los elementos tenian la misma probabilidad de ser escogidos, pero con el siguiente comando podemos darle mas posibilidad de aparecer a algunos elementos de la lista. El comando es **random.choices(elementos, pesos=None, k=1)** donde **elementos** es la lista de la que escogeremos, **pesos** son los pesos (a veces probabilidades, que es cuando al sumar los pesos el resultado es 1) que le daremos a cada elemento de la lista y **k** es cuantas veces queremos que simule escoger un elemento de la lista."
      ]
    },
    {
      "cell_type": "code",
      "metadata": {
        "id": "LeIt26jQi9XZ",
        "colab_type": "code",
        "colab": {}
      },
      "source": [
        "# CUADRO 4: Dado cargado\n",
        "# Este es un dado cargado, en el que es mucho mas probable que nos aparezca el número 1.\n",
        "\n",
        "dado=[1,2,3,4,5,6]            \n",
        "cargas=[5,1,1,1,1,1]               # El 1 aparecerá 5 de cada 10 veces y el 2 aparecerá\n",
        "                                   # 1 de cada 10 veces, al igual que el 3, 4, 5 y el 6\n",
        "random.choices(dado,cargas, k=7)          # Simula escoger 5 veces, es decir lanzar 7 dados"
      ],
      "execution_count": null,
      "outputs": []
    },
    {
      "cell_type": "markdown",
      "metadata": {
        "id": "TAnt8gFQFyMv",
        "colab_type": "text"
      },
      "source": [
        "**EJERCICIO 2:**"
      ]
    },
    {
      "cell_type": "code",
      "metadata": {
        "id": "jnQf_SLHZgRH",
        "colab_type": "code",
        "colab": {}
      },
      "source": [
        "#     Da pesos a los siguientes premios para que el premio mayor (500,000) aparezca\n",
        "#     1 de cada 100 veces y el premio de 500 aparezca 70 de cada 100 veces.  Y que simule escoger\n",
        "#     5 elementos de la lista \"premio\".\n",
        "premio=[0,500,5000,500000]     \n",
        "importancia=[_,_,_,_]\n",
        "random.choices(premio,importancia, k=_)"
      ],
      "execution_count": null,
      "outputs": []
    },
    {
      "cell_type": "markdown",
      "metadata": {
        "id": "B5Zu9LPD5oAL",
        "colab_type": "text"
      },
      "source": [
        "El siguiente comando es para barajar o mezclar alguna lista. Dicho comando es **random.shuffle(lista)**. Dentro del paréntesis colocarás la lista que quieres que sea mezclada, como se ve en el Cuadro 5."
      ]
    },
    {
      "cell_type": "code",
      "metadata": {
        "id": "YtDWQsJL9wgC",
        "colab_type": "code",
        "colab": {}
      },
      "source": [
        "# CUADRO 5: Barajando una lista\n",
        "\n",
        "ordenado=[\"a\",\"b\",\"c\",\"d\",\"e\"]    \n",
        "random.shuffle(ordenado)          # Mezcla la lista \"ordenado\"\n",
        "print(ordenado)                   # Se imprime como quedó al mezclarla"
      ],
      "execution_count": null,
      "outputs": []
    },
    {
      "cell_type": "markdown",
      "metadata": {
        "id": "pVFMc1w0HG6T",
        "colab_type": "text"
      },
      "source": [
        "El único problema con el comando **random.shuffle(lista)** es que modifica la lista. Es decir, desordena la lista y ya no hay manera de recuperar el orden que tenía. ¿Se te ocurre algúna manera de solucionarlo? Intentalo en el siguiente ejercicio."
      ]
    },
    {
      "cell_type": "markdown",
      "metadata": {
        "id": "6530moxwN7mE",
        "colab_type": "text"
      },
      "source": [
        "**EJERCICIO 3:**"
      ]
    },
    {
      "cell_type": "code",
      "metadata": {
        "id": "T1DYIYrkHx4H",
        "colab_type": "code",
        "colab": {}
      },
      "source": [
        "# Modifica el siguiente código para que obtengas una lista con \n",
        "# las 5 vocales desordenadas, pero que la lista \"ordenado\" no se \n",
        "# desordene.  \n",
        "\n",
        "# PISTA: Crear otras listas. El comando para copiar el valor de la\n",
        "#        lista \"a\" en la lista \"b\" es a=b.copy().\n",
        "\n",
        "ordenado=[\"a\",\"b\",\"c\",\"d\",\"e\"]\n",
        "\n",
        "random.shuffle(____)\n",
        "print(ordenado)\n",
        "print(____)"
      ],
      "execution_count": null,
      "outputs": []
    },
    {
      "cell_type": "markdown",
      "metadata": {
        "id": "ODTNspuYskDF",
        "colab_type": "text"
      },
      "source": [
        "\n",
        "Si lo que queremos es seleccionar \"k\" elementos de una lista de \"n\" elementos (\"k\" debe ser menor a \"n\", o nos dirá que tenemos un error) usaremos el comando **random.sample(lista, k=None)**. Este comando puede servir al momento de simular una rifa, en que queremos escoger k=3 ganadores de alguna lista de 1000 participantes, o si tenemos una baraja con 52 cartas, escoger una mano de k=5 cartas."
      ]
    },
    {
      "cell_type": "code",
      "metadata": {
        "id": "LWXEEBIGRtJE",
        "colab_type": "code",
        "colab": {}
      },
      "source": [
        "# CUADRO 6: Generar los dibujos de una baraja y escoger una mano al azar\n",
        "palo = ('♠', '♡', '♢', '♣')\n",
        "valor = ('A', '2', '3', '4', '5', '6', '7', '8', '9', '10', 'J', 'Q', 'K')\n",
        "baraja=[None]*52\t\t\t\t\t\t\t\t# Una lista donde guardaremos los dibujitos de la baraja\n",
        "\t\t\t\t\t\n",
        "for i in range(4):\t\t\t\t\t\t\t# Ciclo para escoger sobre los diferentes \"palos\"\n",
        "\tfor j in range(13):\t\t\t\t\t\t# Ciclo para escoger sobre los diferentes \"valores\"\n",
        "\t\tbaraja[i*13+j] = palo[i]+' '+valor[j]\t\t\t# Asignamos figuras a cada elemento de la baraja\n",
        "\t\t\n",
        "random.sample(baraja, k=5)\t\t\t\t\t# Escogemos al azar 5 cartas (Prueba cambiando \"k\")"
      ],
      "execution_count": null,
      "outputs": []
    },
    {
      "cell_type": "markdown",
      "metadata": {
        "id": "vXkI2aqt_tSo",
        "colab_type": "text"
      },
      "source": [
        "Recordando el **EJERCICIO 3:** Con el nuevo comando **random.sample(lista, k=None)** podemos obtener una mezcla de una lista sin modificar la lista, como pueden ver en la siguiente celda\n",
        "\n"
      ]
    },
    {
      "cell_type": "code",
      "metadata": {
        "id": "NNPKKa1wsuN2",
        "colab_type": "code",
        "colab": {}
      },
      "source": [
        "# CUADRO 7: Otro modo de resolver el EJERCICIO 3\n",
        "\n",
        "orden=[1,2,3,4,5,6]\n",
        "\n",
        "desorden=random.sample(orden, k=len(orden))      # Una mezcla de la lista \"orden\"\n",
        "\n",
        "print(orden)                    #Imprimimos las 2 listas para ver que la otra cambia pero \"orden\" se mantiene igual\n",
        "print(desorden)"
      ],
      "execution_count": null,
      "outputs": []
    },
    {
      "cell_type": "markdown",
      "metadata": {
        "id": "zQ8awlrgBxxO",
        "colab_type": "text"
      },
      "source": [
        "Las siguientes 2 celdas son para recordar el EJERCICIO 1 y que vean una forma diferente de solucionarlo, lo importante es ver que se utiliza el Booleano **True** y el comando **break**."
      ]
    },
    {
      "cell_type": "code",
      "metadata": {
        "id": "m2hHJe9jE27M",
        "colab_type": "code",
        "colab": {}
      },
      "source": [
        "# CUADRO 8: Recordemos la respuesta del EJERCICIO 1\n",
        "\n",
        "deseado=int(input(\"¿Qué número deseas? \"))\n",
        "dado=-1                               #<------  No te preocupes, este índice aparece para que al\n",
        "while deseado!=dado:                  # inicio ningún dado sea igual al que darás en input() \n",
        "  dado=random.randint(1,6)\n",
        "  print(\"Resultado del dado: \",dado)"
      ],
      "execution_count": null,
      "outputs": []
    },
    {
      "cell_type": "code",
      "metadata": {
        "id": "NNkp-qWOw98F",
        "colab_type": "code",
        "colab": {}
      },
      "source": [
        "# CUADRO 9: Podemos hacerlo de otra manera\n",
        "\n",
        "deseado=int(input(\"¿Qué número deseas? \"))\n",
        "while True:                                    # El ciclo comienza y siempre continuará porque la condición siempre es verdadera\n",
        "    dado=random.randint(1,6)                   # Linea identica\n",
        "    print(\"Resultado del dado: \",dado)         # Linea identica\n",
        "    if dado==deseado:                 # Si la comparación da un valor verdadero, ejecuta la siguiente linea\n",
        "        break                         # Terminará el ciclo"
      ],
      "execution_count": null,
      "outputs": []
    },
    {
      "cell_type": "markdown",
      "metadata": {
        "id": "9yof1ciMwHK8",
        "colab_type": "text"
      },
      "source": [
        "**EJERCICIO 4**"
      ]
    },
    {
      "cell_type": "code",
      "metadata": {
        "id": "HO-ezmiHwJQT",
        "colab_type": "code",
        "colab": {}
      },
      "source": [
        "#Edita el juego del CUADRO 9 para que diga el número de intentos que se lanzó el dado hasta obtener el número deseado\n",
        "\n",
        "deseado=int(input(\"¿Qué número deseas? \"))\n",
        "c=____\n",
        "while True:\n",
        "    dado=random.randint(1,6)\n",
        "    print(\"Resultado del dado: \",dado)\n",
        "    ____\n",
        "    if dado==deseado:\n",
        "        print(____)\n",
        "        break\n"
      ],
      "execution_count": null,
      "outputs": []
    },
    {
      "cell_type": "markdown",
      "metadata": {
        "id": "7lx2unHsGAtr",
        "colab_type": "text"
      },
      "source": [
        "**EJERCICIO 5***"
      ]
    },
    {
      "cell_type": "code",
      "metadata": {
        "id": "b4iZDS9IGMUj",
        "colab_type": "code",
        "colab": {}
      },
      "source": [
        "#Simule \"n\" lanzamientos de dos dados, tu escogerás la \"n\". Muestra cuantas veces los dados tuvieron el mismo resultado y\n",
        "# además que nos muestre (imprima) cuales fueron los pares de lanzamientos.\n",
        "\n",
        "n=int(input(\"Número de lanzamientos que quieres:  \"))\n",
        "c=0\n",
        "for i in range(n):\n",
        "        ...\n",
        "        ...\n",
        "print(\"...\")"
      ],
      "execution_count": null,
      "outputs": []
    },
    {
      "cell_type": "markdown",
      "metadata": {
        "id": "hmAAZyWhHvNt",
        "colab_type": "text"
      },
      "source": [
        "Ahora hagamos un pequeño juego. Simular \"n\" lanzamientos de un juego con un dado con estas reglas:\n",
        "Si sale 5 en el dado el jugador gana 5 dolares, si sale 3 gana 1 dólar, si sale 1 no pierde ni gana y si sale 2,4,6  pierde 2 dolares."
      ]
    },
    {
      "cell_type": "code",
      "metadata": {
        "id": "EHVidBqcL10h",
        "colab_type": "code",
        "colab": {}
      },
      "source": [
        "# CUADRO 10\n",
        "\n",
        "credito=0\n",
        "n=int(input(\"Cuántas veces quieres tirar al dado?:  \"))\n",
        "for i in range(n):\n",
        "    dado=random.randint(1,6)\n",
        "    if dado==5:\n",
        "        credito=credito+5\n",
        "        print(\"Ganaste $5\")\n",
        "    elif dado==3:\n",
        "        credito=credito+1\n",
        "        print(\"Ganaste $1\")\n",
        "    elif dado==1:\n",
        "        print(\"Siga participanto\")\n",
        "    elif dado==2 or dado==4 or dado==6:\n",
        "        credito=credito-2\n",
        "        print(\"Perdiste $2\")\n",
        "print(\"Ganancia final: \",credito)"
      ],
      "execution_count": null,
      "outputs": []
    },
    {
      "cell_type": "code",
      "metadata": {
        "id": "oLhXbJ8Sdpe5",
        "colab_type": "code",
        "cellView": "form",
        "colab": {}
      },
      "source": [
        "#@title Calculadora de Esperanza (hay que ejecutar este cuadro para utilizar la función esperanza)\n",
        "\n",
        "def esperanza(premio, probabilidades):\n",
        "  valor=0\n",
        "  total=0\n",
        "  for i in range(len(probabilidades)):\n",
        "    total=total+probabilidades[i]\n",
        "  for i in range(len(premio)):\n",
        "    valor= valor + premio[i]*probabilidades[i]\n",
        "\n",
        "  return valor/total"
      ],
      "execution_count": 101,
      "outputs": []
    },
    {
      "cell_type": "code",
      "metadata": {
        "id": "Dl9CRj_VZBbc",
        "colab_type": "code",
        "colab": {
          "base_uri": "https://localhost:8080/",
          "height": 34
        },
        "outputId": "b62a368d-6ca1-4d33-ae77-46e8e8d62d34"
      },
      "source": [
        "esperanza([0,-2,1,-2,5,-2] ,[1,1,1,1,1,1])"
      ],
      "execution_count": 103,
      "outputs": [
        {
          "output_type": "execute_result",
          "data": {
            "text/plain": [
              "0.0"
            ]
          },
          "metadata": {
            "tags": []
          },
          "execution_count": 103
        }
      ]
    },
    {
      "cell_type": "markdown",
      "metadata": {
        "id": "pKxmItdnu1aD",
        "colab_type": "text"
      },
      "source": [
        "Queremos mejorar el juego de adivina mi número, ahora que sea del 1 al 100, pero dando pistas"
      ]
    },
    {
      "cell_type": "code",
      "metadata": {
        "id": "h0ykW4-GvAeK",
        "colab_type": "code",
        "colab": {}
      },
      "source": [
        "print(\"Adivina mi número. Pista: es un número entero del 1 al 100\")\n",
        "minumero=random.randint(1,100)\n",
        "while True:\n",
        "    numero=int(input(\"Dame un número: \"))\n",
        "    if numero>minumero:\n",
        "        print(\"Mi número es menor a \", numero)\n",
        "    elif numero<minumero:\n",
        "        print(\"Mi número es mayor a \", numero)\n",
        "    else:\n",
        "        print(\"Perfecto!!! Ese es mi número.\")\n",
        "        break"
      ],
      "execution_count": null,
      "outputs": []
    },
    {
      "cell_type": "markdown",
      "metadata": {
        "id": "GI_6mOVhv02h",
        "colab_type": "text"
      },
      "source": [
        "Queremos hacer el traga monedas común en un casino (Uno justo!!!)\n",
        "\n",
        "*   La caja te da $\\$20$ si obtienes los tres números iguales\n",
        "*   La caja te da $\\$10$ si obtienes dos números iguales\n"
      ]
    },
    {
      "cell_type": "code",
      "metadata": {
        "id": "ay3XDFzvzsXP",
        "colab_type": "code",
        "colab": {
          "base_uri": "https://localhost:8080/",
          "height": 102
        },
        "outputId": "4b7cccc1-211b-4a1e-909b-163dd1d5a8d7"
      },
      "source": [
        "\n",
        "monedas=int(input(\"¿Cuantas monedas tienes?: \"))\n",
        "\n",
        "caja = 100\n",
        "tercia = 0\n",
        "par = 0\n",
        "turno = 0 \n",
        "\n",
        "while (monedas>=5 and caja>=20):\n",
        "    turno = turno + 1\n",
        "    monedas = monedas - 5\n",
        "    caja = caja + 5\n",
        "\n",
        "    # Números al azar\n",
        "    a = random.randint(1,10)\n",
        "    b = random.randint(1,10)\n",
        "    c = random.randint(1,10)\n",
        "    \n",
        "    if (a==b and b==c and c==a):\n",
        "        caja = caja - 20\n",
        "        monedas = monedas + 20\n",
        "        tercia = tercia + 1\n",
        "    elif (a==b or b==c or c==a):\n",
        "        caja = caja - 10\n",
        "        monedas = monedas + 10\n",
        "        par = par + 1\n",
        "\n",
        "# SALIDA\n",
        "print(\"Turnos jugados: \", turno)\n",
        "print(\"Tercias: \", tercias)\n",
        "print(\"Pares: \", pares)\n",
        "print(\"Te quedan \", monedas, \" monedas\")"
      ],
      "execution_count": null,
      "outputs": [
        {
          "output_type": "stream",
          "text": [
            "¿Cuantas monedas tienes?: 66\n",
            "Turnos jugados:  35\n",
            "Trios:  0\n",
            "Pares:  11\n",
            "Te quedan  1  monedas\n"
          ],
          "name": "stdout"
        }
      ]
    },
    {
      "cell_type": "code",
      "metadata": {
        "id": "grads3j3ivCM",
        "colab_type": "code",
        "colab": {}
      },
      "source": [
        "ITEMS = [\"CEREZA\", \"LIMON\", \"NARANJA\", \"SANDIA\", \"CAMPANA\", \"BAR\", \"7\"]"
      ],
      "execution_count": null,
      "outputs": []
    },
    {
      "cell_type": "markdown",
      "metadata": {
        "id": "j2xSlezjv68a",
        "colab_type": "text"
      },
      "source": [
        "Finalmente veremos como tomar una muestra de una variable aleatoria continua, por ejemplo:\n",
        "\n",
        "\n",
        "*   Uniforme Continua: `random.uniform(a, b)` \n",
        "*   Normal: `random.normalvariate(mu,sigma)`\n",
        "*   Exponencial: `random.expovariate(lambda)` #Aquí la media de la distribución es 1/lambda\n"
      ]
    },
    {
      "cell_type": "markdown",
      "metadata": {
        "id": "PLsfwcXFJvbb",
        "colab_type": "text"
      },
      "source": [
        "Si queremos una muestra basta con usar la paquetería numpy para obtener un array\n",
        "\n",
        "\n",
        "*   `numpy.random.normal(0,1,size=(r,s))` #obtenemos un arreglo de r renglones y s columnas\n",
        "*   `numpy.random.exponential(beta,size=(r,s))` Aquí beta=1/lambda \n",
        "*   `numpy.random.uniform(a,b,size=(r,s))`\n",
        "\n",
        "\n"
      ]
    },
    {
      "cell_type": "code",
      "metadata": {
        "id": "zMcyTNKPKVyq",
        "colab_type": "code",
        "colab": {
          "base_uri": "https://localhost:8080/",
          "height": 356
        },
        "outputId": "97a6550d-8222-4a95-b2da-97a82b02df74"
      },
      "source": [
        "#Para visualizar lo anterior tomemos dos muestras\n",
        "\n",
        "import matplotlib.pyplot as plt\n",
        "import numpy\n",
        "\n",
        "x1=numpy.random.normal(0,4,100)\n",
        "x2=numpy.random.normal(0,4,1000)\n",
        "\n",
        "fig, axs = plt.subplots(1,2,figsize=(10,5), sharey=True, sharex=True)\n",
        "# Primera gráfica\n",
        "axs[0].hist(x1, bins=30)\n",
        "# Etiquetas de los ejes \n",
        "axs[0].set_title('Histograma con 100 muestras', c= \"red\", fontsize = 16)#fontsize cambia el tamaño de la letra\n",
        "# Segunda gráfica\n",
        "axs[1].hist(x2, bins=30)\n",
        "# Nombre de los ejes y título \n",
        "axs[1].set_title('Histograma con 1000 muestras', c= \"red\", fontsize = 16)#fontsize cambia el tamaño de la letra\n",
        "# Título de toda la figura\n",
        "fig.suptitle('Histogramas', fontsize = 20, color = 'navy') \n",
        "plt.show()\n",
        "\n"
      ],
      "execution_count": null,
      "outputs": [
        {
          "output_type": "display_data",
          "data": {
            "image/png": "[encoded data removed]",
            "text/plain": [
              "<Figure size 720x360 with 2 Axes>"
            ]
          },
          "metadata": {
            "tags": [],
            "needs_background": "light"
          }
        }
      ]
    },
    {
      "cell_type": "markdown",
      "metadata": {
        "id": "soxkpaNPLddC",
        "colab_type": "text"
      },
      "source": [
        "**EJERCICIO:**\n",
        "Tu turno: realiza los histogramas para tres muestras de una distribución exponenciial y grafica."
      ]
    },
    {
      "cell_type": "markdown",
      "metadata": {
        "id": "kmZnUAvMuMd_",
        "colab_type": "text"
      },
      "source": [
        "TAREA: Edita el juego del ahorcado de la primera sesión para que la palabra para adivinar en el juego sea tomada al azar de la siguiente lista"
      ]
    },
    {
      "cell_type": "code",
      "metadata": {
        "id": "E2NVu1pCub5Z",
        "colab_type": "code",
        "colab": {}
      },
      "source": [
        "lista=[\"Pyhton\",\"ahorcado\",\"estudiante\",\"programación\",\"codigo\",\"jugando\",\"random\",\"lista\",\"profesor\"]"
      ],
      "execution_count": null,
      "outputs": []
    }
  ]
}