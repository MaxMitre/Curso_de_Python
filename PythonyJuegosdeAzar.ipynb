{
  "nbformat": 4,
  "nbformat_minor": 0,
  "metadata": {
    "colab": {
      "name": "PythonyJuegosdeAzar",
      "provenance": [],
      "collapsed_sections": [],
      "include_colab_link": true
    },
    "kernelspec": {
      "name": "python3",
      "display_name": "Python 3"
    }
  },
  "cells": [
    {
      "cell_type": "markdown",
      "metadata": {
        "id": "view-in-github",
        "colab_type": "text"
      },
      "source": [
        "<a href=\"https://colab.research.google.com/github/MaxMitre/Curso_de_Python/blob/master/PythonyJuegosdeAzar.ipynb\" target=\"_parent\"><img src=\"https://colab.research.google.com/assets/colab-badge.svg\" alt=\"Open In Colab\"/></a>"
      ]
    },
    {
      "cell_type": "markdown",
      "metadata": {
        "id": "FdCzpn2QwQL5",
        "colab_type": "text"
      },
      "source": [
        "Necesitaremos un par de librerias, asegurate de ejecutar el siguiente bloque antes que ningún otro."
      ]
    },
    {
      "cell_type": "code",
      "metadata": {
        "id": "9Am-YrswvhC0",
        "colab_type": "code",
        "colab": {}
      },
      "source": [
        "# CUADRO 1\n",
        "import random\n",
        "import os"
      ],
      "execution_count": null,
      "outputs": []
    },
    {
      "cell_type": "code",
      "metadata": {
        "id": "JKXatO8w1Hv3",
        "colab_type": "code",
        "colab": {
          "base_uri": "https://localhost:8080/",
          "height": 102
        },
        "outputId": "9fa1801e-6ae6-4588-e6b6-2632bc13648e"
      },
      "source": [
        "# CUADRO 2\n",
        "random.seed(a=200, version=2)   #Usar NONE para que la semilla la de el reloj del computador\n",
        "\n",
        "i=1\n",
        "while(i<=5):\n",
        "    \tprint(random.randrange(1,7,1))\n",
        "    \ti=i+1     "
      ],
      "execution_count": null,
      "outputs": [
        {
          "output_type": "stream",
          "text": [
            "1\n",
            "2\n",
            "6\n",
            "6\n",
            "1\n"
          ],
          "name": "stdout"
        }
      ]
    },
    {
      "cell_type": "markdown",
      "metadata": {
        "id": "s-vidhBQ1nlD",
        "colab_type": "text"
      },
      "source": [
        "En el cuadro de arriba dimos como semilla el número 200.\n",
        "\n",
        "Si ejecutamos ese cuadro de código, siempre estamos diciendo que vuelva a iniciar con la semilla 200, por eso siempre dará la misma secuencia de números pseudoaleatorios.\n",
        "\n",
        "En cambio, en el CUADRO 3 ya no estamos volviendo reiniciar la semilla, por eso si lo ejecutamos varias veces nos mostrará diferentes secuencias de números aleatorios.\n",
        "\n",
        "**NOTA:** Por costumbre, se utiliza como semilla el comando \"None\" (en lugar del 200) para que la semilla sea el reloj de la computadora. Intenta cambiando la semilla a \"None\" y observa que ocurre. "
      ]
    },
    {
      "cell_type": "code",
      "metadata": {
        "id": "8bgPKcpx2r6e",
        "colab_type": "code",
        "colab": {
          "base_uri": "https://localhost:8080/",
          "height": 102
        },
        "outputId": "3dbb9892-7ee2-4934-8ef9-5a25872b7f1b"
      },
      "source": [
        "# CUADRO 3\n",
        "i=1\n",
        "while(i<=5):\n",
        "    \tprint(random.randrange(1,7,1))\n",
        "    \ti=i+1  "
      ],
      "execution_count": null,
      "outputs": [
        {
          "output_type": "stream",
          "text": [
            "4\n",
            "3\n",
            "4\n",
            "4\n",
            "2\n"
          ],
          "name": "stdout"
        }
      ]
    },
    {
      "cell_type": "markdown",
      "metadata": {
        "id": "NR4pkTSg4TW9",
        "colab_type": "text"
      },
      "source": [
        "El siguiente comando es para seleccionar elementos de un arreglo al azar. Todos los elementos tienen la misma probabilidad de ser seleccionados, esa probabilidad es 1/n, donde \"n\" es el número de elementos. "
      ]
    },
    {
      "cell_type": "code",
      "metadata": {
        "id": "LYjdQTLd4Y4e",
        "colab_type": "code",
        "colab": {
          "base_uri": "https://localhost:8080/",
          "height": 51
        },
        "outputId": "5a5e0eb0-381d-4232-fc14-4f67ecb891bd"
      },
      "source": [
        "# CUADRO 4\n",
        "\n",
        "premios=[\"perro\",\"gato\",\"gallina\",\"carro\"]     \n",
        "nums=[1,2,3,4,5,6,7]\n",
        "\n",
        "print(random.choice(premios))\n",
        "print(random.choice(nums))"
      ],
      "execution_count": null,
      "outputs": [
        {
          "output_type": "stream",
          "text": [
            "gato\n",
            "6\n"
          ],
          "name": "stdout"
        }
      ]
    },
    {
      "cell_type": "markdown",
      "metadata": {
        "id": "B5Zu9LPD5oAL",
        "colab_type": "text"
      },
      "source": [
        "El siguiente comando es para barajar algun arreglo. El único inconveniente es que módifica el arreglo. Es decir, desordena el arreglo y ya no hay manera de recuperarlo en el orden anterior. ¿Se te ocurre algúna manera de solucionarlo?"
      ]
    },
    {
      "cell_type": "code",
      "metadata": {
        "id": "YtDWQsJL9wgC",
        "colab_type": "code",
        "colab": {
          "base_uri": "https://localhost:8080/",
          "height": 34
        },
        "outputId": "037427f4-3907-4cec-f2b1-67b9f2d15bb6"
      },
      "source": [
        "# CUADRO 5\n",
        "\n",
        "random.shuffle(premios)\n",
        "print(premios)"
      ],
      "execution_count": null,
      "outputs": [
        {
          "output_type": "stream",
          "text": [
            "['gato', 'perro', 'carro', 'gallina']\n"
          ],
          "name": "stdout"
        }
      ]
    },
    {
      "cell_type": "markdown",
      "metadata": {
        "id": "zqm1tmfc6f_O",
        "colab_type": "text"
      },
      "source": [
        "Aquí se presenta como generar una baraja para cada jugador. Si queremos, por ejemplo, crear el juego de BLACKJACK en Python es muy sencillo. Ponemos los valores de las 13 cartas y sus 4 palos"
      ]
    },
    {
      "cell_type": "code",
      "metadata": {
        "id": "9gXGkTM2GEx5",
        "colab_type": "code",
        "colab": {}
      },
      "source": [
        "suit = ('♠', '♡', '♢', '♣')\n",
        "value = ('A', '2', '3', '4', '5', '6', '7', '8', '9', '10', 'J', 'Q', 'K')"
      ],
      "execution_count": null,
      "outputs": []
    },
    {
      "cell_type": "markdown",
      "metadata": {
        "id": "yxuk2XDoGIMF",
        "colab_type": "text"
      },
      "source": [
        "Después formamos la baraja inglesa"
      ]
    },
    {
      "cell_type": "code",
      "metadata": {
        "id": "XGa3XLHIGLs7",
        "colab_type": "code",
        "colab": {}
      },
      "source": [
        "index = [None] * 52\n",
        "for i in range(4):\n",
        "\tfor j in range(13):\n",
        "\t\tindex[i*13+j] = [i, j]\n",
        "index"
      ],
      "execution_count": null,
      "outputs": []
    },
    {
      "cell_type": "markdown",
      "metadata": {
        "id": "khBnkq7JGOuM",
        "colab_type": "text"
      },
      "source": [
        "Para dar al azar la repartición de cartas usamos random.randint"
      ]
    }
  ]
}